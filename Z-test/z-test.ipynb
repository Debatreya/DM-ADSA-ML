{
 "cells": [
  {
   "cell_type": "markdown",
   "metadata": {},
   "source": [
    "# Z-Test Hypothesis Testing\n",
    "\n",
    "> Name: Debatreya Das <br>\n",
    "> Roll: 12212070 <br>\n",
    "> CS A4 <br>\n",
    "> ML Lab 6"
   ]
  },
  {
   "cell_type": "markdown",
   "metadata": {},
   "source": [
    "### Importing Libraries"
   ]
  },
  {
   "cell_type": "code",
   "execution_count": 1,
   "metadata": {},
   "outputs": [],
   "source": [
    "# Importing necessary libraries\n",
    "import math\n",
    "import numpy as np\n",
    "import scipy.stats as stats\n",
    "\n",
    "# Given data\n",
    "sample_mean = 110\n",
    "population_mean = 100\n",
    "population_std = 15\n",
    "sample_size = 50\n",
    "alpha = 0.05"
   ]
  },
  {
   "cell_type": "markdown",
   "metadata": {},
   "source": [
    "### 1. Calculate the Z-score\n",
    "\n",
    "The Z-score is a measure of how many standard deviations an element is from the mean. The formula for the Z-score is:\n",
    "\n",
    "$$\n",
    "Z = \\frac{\\text{Sample\\_mean} - \\text{Population\\_mean}}{\\frac{\\text{Population\\_std}}{\\sqrt{\\text{Sample\\_size}}}}\n",
    "$$\n"
   ]
  },
  {
   "cell_type": "code",
   "execution_count": 2,
   "metadata": {},
   "outputs": [
    {
     "name": "stdout",
     "output_type": "stream",
     "text": [
      "Z-score: 4.714045207910317\n"
     ]
    }
   ],
   "source": [
    "# Calculate the Z-score\n",
    "z_score = (sample_mean - population_mean) / (population_std / math.sqrt(sample_size))\n",
    "\n",
    "# Output the Z-score\n",
    "print(f\"Z-score: {z_score}\")"
   ]
  },
  {
   "cell_type": "markdown",
   "metadata": {},
   "source": [
    "### 2. Determine the Critical Z-value\n",
    "\n",
    "The critical Z-value is the value that corresponds to the significance level (alpha). For a two-tailed test, we divide the alpha by 2.\n",
    "\n",
    "We use the `scipy.stats.norm.ppf()` function to get the Z-value that corresponds to a cumulative probability of `1 - alpha/2`."
   ]
  },
  {
   "cell_type": "code",
   "execution_count": 3,
   "metadata": {},
   "outputs": [
    {
     "name": "stdout",
     "output_type": "stream",
     "text": [
      "Critical Z-value: 1.959963984540054\n"
     ]
    }
   ],
   "source": [
    "# Calculate the critical Z-value\n",
    "z_critical = stats.norm.ppf(1 - alpha/2)\n",
    "\n",
    "# Output the critical Z-value\n",
    "print(f\"Critical Z-value: {z_critical}\")"
   ]
  },
  {
   "cell_type": "markdown",
   "metadata": {},
   "source": [
    "### 3. Hypothesis Testing\n",
    "\n",
    "Now that we have the Z-score and the critical Z-value, we can determine whether to reject the null hypothesis.\n",
    "\n",
    "- **Null Hypothesis (H0)**: There is no significant difference between the sample mean and the population mean.\n",
    "- **Alternative Hypothesis (H1)**: There is a significant difference between the sample mean and the population mean.\n",
    "\n",
    "If the absolute value of the Z-score is greater than the critical Z-value, we reject the null hypothesis."
   ]
  },
  {
   "cell_type": "code",
   "execution_count": 4,
   "metadata": {},
   "outputs": [
    {
     "name": "stdout",
     "output_type": "stream",
     "text": [
      "Result: Reject the null hypothesis\n"
     ]
    }
   ],
   "source": [
    "# Determine whether to reject the null hypothesis\n",
    "if abs(z_score) > z_critical:\n",
    "    result = \"Reject the null hypothesis\"\n",
    "else:\n",
    "    result = \"Fail to reject the null hypothesis\"\n",
    "\n",
    "# Print the result of the hypothesis test\n",
    "print(f\"Result: {result}\")"
   ]
  },
  {
   "cell_type": "markdown",
   "metadata": {},
   "source": [
    "### 4. Creating Sample Data\n",
    "\n",
    "Next, let's create a sample dataset from a normally distributed population and perform the Z-test on it.\n",
    "\n",
    "We will assume the population follows a normal distribution with the given `population_mean` and `population_std`. We'll generate a random sample of size `sample_size` from this population."
   ]
  },
  {
   "cell_type": "code",
   "execution_count": 5,
   "metadata": {},
   "outputs": [
    {
     "name": "stdout",
     "output_type": "stream",
     "text": [
      "Sample Mean: 99.52288698382587\n",
      "Sample Standard Deviation: 14.801923489633477\n"
     ]
    }
   ],
   "source": [
    "import pandas as pd\n",
    "\n",
    "# Generate random sample data\n",
    "np.random.seed(0)  # Set seed for reproducibility\n",
    "population_data = np.random.normal(loc=population_mean, scale=population_std, size=1000)\n",
    "sample_data = np.random.choice(population_data, sample_size)\n",
    "\n",
    "# Save the sample data to a CSV file\n",
    "df = pd.DataFrame(sample_data, columns=['Sample_Data'])\n",
    "df.to_csv('sample_data.csv', index=False)\n",
    "\n",
    "# Calculate sample mean and standard deviation\n",
    "sample_mean = np.mean(sample_data)\n",
    "sample_std = np.std(sample_data, ddof=1)\n",
    "\n",
    "# Output the sample mean and standard deviation\n",
    "print(f\"Sample Mean: {sample_mean}\")\n",
    "print(f\"Sample Standard Deviation: {sample_std}\")"
   ]
  },
  {
   "cell_type": "markdown",
   "metadata": {},
   "source": [
    "### 5. Perform Z-Test on Sample Data"
   ]
  },
  {
   "cell_type": "code",
   "execution_count": 7,
   "metadata": {},
   "outputs": [
    {
     "name": "stdout",
     "output_type": "stream",
     "text": [
      "Z-score: -0.2249132327527294\n",
      "Critical Z-value: 1.959963984540054\n",
      "Result: Accepted the null hypothesis\n"
     ]
    }
   ],
   "source": [
    "# Calculate Z-score for the sample data\n",
    "z_score = (sample_mean - population_mean) / (population_std / math.sqrt(sample_size))\n",
    "\n",
    "# Determine whether to reject the null hypothesis\n",
    "if abs(z_score) > z_critical:\n",
    "    result = \"Reject the null hypothesis\"\n",
    "else:\n",
    "    result = \"Accepted the null hypothesis\"\n",
    "\n",
    "# Print the results\n",
    "print(f\"Z-score: {z_score}\")\n",
    "print(f\"Critical Z-value: {z_critical}\")\n",
    "print(f\"Result: {result}\")"
   ]
  },
  {
   "cell_type": "markdown",
   "metadata": {},
   "source": [
    "#### 1. Two Tailed Test:\n",
    "A two-tailed test checks for the possibility of the relationship in both directions. The null hypothesis is rejected if the test statistic is in either of the two critical regions."
   ]
  },
  {
   "cell_type": "code",
   "execution_count": 8,
   "metadata": {},
   "outputs": [
    {
     "name": "stdout",
     "output_type": "stream",
     "text": [
      "Two-Tailed Z-Test\n",
      "Z-score: -0.2249132327527294\n",
      "Critical Z-value: 1.959963984540054\n",
      "Result: Accept the null hypothesis\n"
     ]
    }
   ],
   "source": [
    "# Two-Tailed Z-Test\n",
    "\n",
    "# Calculate the Z-score for the sample data\n",
    "z_score = (sample_mean - population_mean) / (population_std / math.sqrt(sample_size))\n",
    "\n",
    "# Calculate the critical Z-value for a two-tailed test\n",
    "z_critical = stats.norm.ppf(1 - alpha/2)\n",
    "\n",
    "# Determine whether to reject the null hypothesis\n",
    "if abs(z_score) > z_critical:\n",
    "    result = \"Reject the null hypothesis\"\n",
    "else:\n",
    "    result = \"Accept the null hypothesis\"\n",
    "\n",
    "# Print results\n",
    "print(f\"Two-Tailed Z-Test\")\n",
    "print(f\"Z-score: {z_score}\")\n",
    "print(f\"Critical Z-value: {z_critical}\")\n",
    "print(f\"Result: {result}\")"
   ]
  },
  {
   "cell_type": "markdown",
   "metadata": {},
   "source": [
    "#### 2. One-Tailed Z-Test\n",
    "A one-tailed test checks for the possibility of the relationship in one direction and ignores the possibility of a relationship in the other direction. There are two types of one-tailed tests:\n",
    "\n",
    "- Left-Tailed Test: Tests if the sample mean is significantly less than the population mean.\n",
    "- Right-Tailed Test: Tests if the sample mean is significantly greater than the population mean."
   ]
  },
  {
   "cell_type": "markdown",
   "metadata": {},
   "source": [
    "##### Right-Tailed Test"
   ]
  },
  {
   "cell_type": "code",
   "execution_count": 9,
   "metadata": {},
   "outputs": [
    {
     "name": "stdout",
     "output_type": "stream",
     "text": [
      "One-Tailed Z-Test (Right-Tailed)\n",
      "Z-score: -0.2249132327527294\n",
      "Critical Z-value: 1.6448536269514722\n",
      "Result: Accepted the null hypothesis\n"
     ]
    }
   ],
   "source": [
    "# One-Tailed Z-Test (Right-Tailed)\n",
    "\n",
    "# Calculate the critical Z-value for a one-tailed test\n",
    "z_critical = stats.norm.ppf(1 - alpha)\n",
    "\n",
    "# Determine whether to reject the null hypothesis\n",
    "if z_score > z_critical:\n",
    "    result = \"Reject the null hypothesis\"\n",
    "else:\n",
    "    result = \"Accepted the null hypothesis\"\n",
    "\n",
    "# Print results\n",
    "print(f\"One-Tailed Z-Test (Right-Tailed)\")\n",
    "print(f\"Z-score: {z_score}\")\n",
    "print(f\"Critical Z-value: {z_critical}\")\n",
    "print(f\"Result: {result}\")"
   ]
  },
  {
   "cell_type": "markdown",
   "metadata": {},
   "source": [
    "##### Left-Tailed Test"
   ]
  },
  {
   "cell_type": "code",
   "execution_count": 10,
   "metadata": {},
   "outputs": [
    {
     "name": "stdout",
     "output_type": "stream",
     "text": [
      "One-Tailed Z-Test (Right-Tailed)\n",
      "Z-score: -0.2249132327527294\n",
      "Critical Z-value: 1.6448536269514722\n",
      "Result: Accepted the null hypothesis\n"
     ]
    }
   ],
   "source": [
    "# One-Tailed Z-Test (Right-Tailed)\n",
    "\n",
    "# Calculate the critical Z-value for a one-tailed test\n",
    "z_critical = stats.norm.ppf(1 - alpha)\n",
    "\n",
    "# Determine whether to reject the null hypothesis\n",
    "if z_score > z_critical:\n",
    "    result = \"Reject the null hypothesis\"\n",
    "else:\n",
    "    result = \"Accepted the null hypothesis\"\n",
    "\n",
    "# Print results\n",
    "print(f\"One-Tailed Z-Test (Right-Tailed)\")\n",
    "print(f\"Z-score: {z_score}\")\n",
    "print(f\"Critical Z-value: {z_critical}\")\n",
    "print(f\"Result: {result}\")"
   ]
  },
  {
   "cell_type": "markdown",
   "metadata": {},
   "source": [
    "### Conclusion\n",
    "\n",
    "- **Z-score**: This tells us how far our sample mean is from the population mean in terms of standard deviations.\n",
    "- **Critical Z-value**: This is the threshold value beyond which we reject the null hypothesis.\n",
    "- **Result**: Based on the Z-score and the critical Z-value, we either reject or fail to reject the null hypothesis."
   ]
  }
 ],
 "metadata": {
  "kernelspec": {
   "display_name": "Python 3",
   "language": "python",
   "name": "python3"
  },
  "language_info": {
   "codemirror_mode": {
    "name": "ipython",
    "version": 3
   },
   "file_extension": ".py",
   "mimetype": "text/x-python",
   "name": "python",
   "nbconvert_exporter": "python",
   "pygments_lexer": "ipython3",
   "version": "3.11.1"
  }
 },
 "nbformat": 4,
 "nbformat_minor": 2
}
