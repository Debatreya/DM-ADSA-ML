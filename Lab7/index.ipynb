{
 "cells": [
  {
   "cell_type": "markdown",
   "metadata": {},
   "source": [
    "# Data Mining Lab : Experiment 7\n",
    "### Submitted By\n",
    "> NAME: Debatreya Das <br>\n",
    "> Roll-No.: 12212070 <br>\n",
    "> CS-A4 <br>\n",
    "> Data Mining Lab"
   ]
  },
  {
   "cell_type": "markdown",
   "metadata": {},
   "source": [
    "## Objective: \n",
    "### To compute maximal frequent itemset."
   ]
  },
  {
   "cell_type": "markdown",
   "metadata": {},
   "source": [
    "## Part A\n"
   ]
  },
  {
   "cell_type": "markdown",
   "metadata": {},
   "source": [
    "Compute item set of frequent items (1-itemsets) and their support counts from a \n",
    "given transactional dataset. Sort frequent itemsets and generate them in L order \n",
    "(descending order of support counts)."
   ]
  },
  {
   "cell_type": "markdown",
   "metadata": {},
   "source": [
    "#### Importing Libraries"
   ]
  },
  {
   "cell_type": "code",
   "execution_count": 36,
   "metadata": {},
   "outputs": [],
   "source": [
    "## IMPORTING LIBRARIES\n",
    "import pandas as pd\n",
    "from collections import defaultdict"
   ]
  },
  {
   "cell_type": "markdown",
   "metadata": {},
   "source": [
    "#### Loading Transaction Data"
   ]
  },
  {
   "cell_type": "code",
   "execution_count": 37,
   "metadata": {},
   "outputs": [
    {
     "data": {
      "text/html": [
       "<div>\n",
       "<style scoped>\n",
       "    .dataframe tbody tr th:only-of-type {\n",
       "        vertical-align: middle;\n",
       "    }\n",
       "\n",
       "    .dataframe tbody tr th {\n",
       "        vertical-align: top;\n",
       "    }\n",
       "\n",
       "    .dataframe thead th {\n",
       "        text-align: right;\n",
       "    }\n",
       "</style>\n",
       "<table border=\"1\" class=\"dataframe\">\n",
       "  <thead>\n",
       "    <tr style=\"text-align: right;\">\n",
       "      <th></th>\n",
       "      <th>TID</th>\n",
       "      <th>Items</th>\n",
       "    </tr>\n",
       "  </thead>\n",
       "  <tbody>\n",
       "    <tr>\n",
       "      <th>0</th>\n",
       "      <td>T1</td>\n",
       "      <td>bread,milk</td>\n",
       "    </tr>\n",
       "    <tr>\n",
       "      <th>1</th>\n",
       "      <td>T2</td>\n",
       "      <td>bread,diaper,beer,eggs</td>\n",
       "    </tr>\n",
       "    <tr>\n",
       "      <th>2</th>\n",
       "      <td>T3</td>\n",
       "      <td>milk,diaper,beer,cola</td>\n",
       "    </tr>\n",
       "    <tr>\n",
       "      <th>3</th>\n",
       "      <td>T4</td>\n",
       "      <td>bread,milk,diaper,beer</td>\n",
       "    </tr>\n",
       "    <tr>\n",
       "      <th>4</th>\n",
       "      <td>T5</td>\n",
       "      <td>bread,milk,cola</td>\n",
       "    </tr>\n",
       "  </tbody>\n",
       "</table>\n",
       "</div>"
      ],
      "text/plain": [
       "  TID                   Items\n",
       "0  T1              bread,milk\n",
       "1  T2  bread,diaper,beer,eggs\n",
       "2  T3   milk,diaper,beer,cola\n",
       "3  T4  bread,milk,diaper,beer\n",
       "4  T5         bread,milk,cola"
      ]
     },
     "execution_count": 37,
     "metadata": {},
     "output_type": "execute_result"
    }
   ],
   "source": [
    "# Load the CSV file containing transactions\n",
    "file_path = 'fp_growth_transactions.csv'  # Update with the correct path\n",
    "df_transactions = pd.read_csv(file_path)\n",
    "df_transactions"
   ]
  },
  {
   "cell_type": "markdown",
   "metadata": {},
   "source": [
    "#### Function to compute support of 1-itemsets `compute_1_itemsets`"
   ]
  },
  {
   "cell_type": "code",
   "execution_count": 38,
   "metadata": {},
   "outputs": [],
   "source": [
    "# Function to compute support counts of 1-itemsets\n",
    "def compute_1_itemsets(transactions):\n",
    "    item_support_count = defaultdict(int)\n",
    "    for transaction in transactions:\n",
    "        items = transaction.split(',')\n",
    "        for item in items:\n",
    "            item_support_count[item] += 1\n",
    "    return dict(item_support_count)"
   ]
  },
  {
   "cell_type": "markdown",
   "metadata": {},
   "source": [
    "#### Calculating frequent 1-itemsets"
   ]
  },
  {
   "cell_type": "code",
   "execution_count": 39,
   "metadata": {},
   "outputs": [
    {
     "data": {
      "text/plain": [
       "[('bread', 4),\n",
       " ('milk', 4),\n",
       " ('diaper', 3),\n",
       " ('beer', 3),\n",
       " ('cola', 2),\n",
       " ('eggs', 1)]"
      ]
     },
     "execution_count": 39,
     "metadata": {},
     "output_type": "execute_result"
    }
   ],
   "source": [
    "# Extract transactions from the CSV data\n",
    "transaction_list = df_transactions['Items'].tolist()\n",
    "\n",
    "# Compute 1-itemsets with support counts\n",
    "item_support_counts = compute_1_itemsets(transaction_list)\n",
    "\n",
    "# Sorting the 1-itemsets by support counts in descending order\n",
    "sorted_item_support_counts = sorted(item_support_counts.items(), key=lambda x: x[1], reverse=True)\n",
    "\n",
    "# Display the sorted frequent 1-itemsets\n",
    "sorted_item_support_counts"
   ]
  },
  {
   "cell_type": "markdown",
   "metadata": {},
   "source": [
    "## Part B"
   ]
  },
  {
   "cell_type": "markdown",
   "metadata": {},
   "source": [
    "Sort items in the transactions of the dataset in L-order (descending order of support counts)."
   ]
  },
  {
   "cell_type": "markdown",
   "metadata": {},
   "source": [
    "#### Function to sort items in each transaction by L-order"
   ]
  },
  {
   "cell_type": "code",
   "execution_count": 40,
   "metadata": {},
   "outputs": [],
   "source": [
    "# Helper function to sort items in each transaction by L-order (support counts)\n",
    "def sort_transactions_by_l_order(transactions, support_counts):\n",
    "    sorted_transactions = []\n",
    "    for transaction in transactions:\n",
    "        items = transaction.split(',')\n",
    "        # Sort items in transaction based on the L-order (support counts)\n",
    "        sorted_items = sorted(items, key=lambda item: support_counts[item], reverse=True)\n",
    "        sorted_transactions.append(sorted_items)\n",
    "    return sorted_transactions\n"
   ]
  },
  {
   "cell_type": "markdown",
   "metadata": {},
   "source": [
    "#### Calculating sorted transaction by L order"
   ]
  },
  {
   "cell_type": "code",
   "execution_count": 41,
   "metadata": {},
   "outputs": [
    {
     "data": {
      "text/plain": [
       "[['bread', 'milk'],\n",
       " ['bread', 'diaper', 'beer', 'eggs'],\n",
       " ['milk', 'diaper', 'beer', 'cola'],\n",
       " ['bread', 'milk', 'diaper', 'beer'],\n",
       " ['bread', 'milk', 'cola']]"
      ]
     },
     "execution_count": 41,
     "metadata": {},
     "output_type": "execute_result"
    }
   ],
   "source": [
    "# Sorting transactions by L-order\n",
    "sorted_transactions = sort_transactions_by_l_order(transaction_list, dict(sorted_item_support_counts))\n",
    "\n",
    "# Display the sorted transactions\n",
    "sorted_transactions"
   ]
  },
  {
   "cell_type": "markdown",
   "metadata": {},
   "source": [
    "## Part C\n"
   ]
  },
  {
   "cell_type": "markdown",
   "metadata": {},
   "source": [
    "Construct FP tree using the Han’s book example. Display FP tree using appropriate \n",
    "notation/representation."
   ]
  },
  {
   "cell_type": "markdown",
   "metadata": {},
   "source": [
    "#### Class: FPTreeNode"
   ]
  },
  {
   "cell_type": "code",
   "execution_count": 42,
   "metadata": {},
   "outputs": [],
   "source": [
    "# FP-Tree Node structure\n",
    "class FPTreeNode:\n",
    "    def __init__(self, item_name, count, parent):\n",
    "        self.item_name = item_name\n",
    "        self.count = count\n",
    "        self.parent = parent\n",
    "        self.children = {}\n",
    "        self.link = None  # Link to next node of the same item\n",
    "\n",
    "    def increment(self, count):\n",
    "        \"\"\"Increment the count of the node.\"\"\"\n",
    "        self.count += count\n",
    "\n",
    "# FP-Tree structure\n",
    "class FPTree:\n",
    "    def __init__(self):\n",
    "        self.root = FPTreeNode(None, 1, None)  # Root node with no item\n",
    "        self.header_table = {}\n",
    "\n",
    "    def update_header_table(self, node, item):\n",
    "        \"\"\"Update header table to point to nodes of the same item.\"\"\"\n",
    "        if item in self.header_table:\n",
    "            current_node = self.header_table[item]\n",
    "            while current_node.link is not None:\n",
    "                current_node = current_node.link\n",
    "            current_node.link = node\n",
    "        else:\n",
    "            self.header_table[item] = node\n",
    "\n",
    "    def insert_transaction(self, transaction):\n",
    "        \"\"\"Insert a sorted transaction into the FP-Tree.\"\"\"\n",
    "        current_node = self.root\n",
    "        for item in transaction:\n",
    "            if item in current_node.children:\n",
    "                current_node.children[item].increment(1)\n",
    "            else:\n",
    "                new_node = FPTreeNode(item, 1, current_node)\n",
    "                current_node.children[item] = new_node\n",
    "                self.update_header_table(new_node, item)\n",
    "            current_node = current_node.children[item]\n"
   ]
  },
  {
   "cell_type": "markdown",
   "metadata": {},
   "source": [
    "#### Function to construct the FP-Tree from sorted transactions"
   ]
  },
  {
   "cell_type": "code",
   "execution_count": 43,
   "metadata": {},
   "outputs": [],
   "source": [
    "# Construct the FP-Tree from sorted transactions\n",
    "def construct_fp_tree(transactions):\n",
    "    tree = FPTree()\n",
    "    for transaction in transactions:\n",
    "        tree.insert_transaction(transaction)\n",
    "    return tree"
   ]
  },
  {
   "cell_type": "markdown",
   "metadata": {},
   "source": [
    "#### Build the FP Growth Tree"
   ]
  },
  {
   "cell_type": "code",
   "execution_count": 44,
   "metadata": {},
   "outputs": [],
   "source": [
    "# Build the FP-Tree from sorted transactions\n",
    "fp_tree = construct_fp_tree(sorted_transactions)"
   ]
  },
  {
   "cell_type": "markdown",
   "metadata": {},
   "source": [
    "#### Printing the tree"
   ]
  },
  {
   "cell_type": "code",
   "execution_count": 45,
   "metadata": {},
   "outputs": [
    {
     "name": "stdout",
     "output_type": "stream",
     "text": [
      "None: 1\n",
      "  bread: 4\n",
      "    milk: 3\n",
      "      diaper: 1\n",
      "        beer: 1\n",
      "      cola: 1\n",
      "    diaper: 1\n",
      "      beer: 1\n",
      "        eggs: 1\n",
      "  milk: 1\n",
      "    diaper: 1\n",
      "      beer: 1\n",
      "        cola: 1\n"
     ]
    }
   ],
   "source": [
    "def print_fp_tree(node, indent=0):\n",
    "    print('  ' * indent + f'{node.item_name}: {node.count}')\n",
    "    for child in node.children.values():\n",
    "        print_fp_tree(child, indent + 1)\n",
    "\n",
    "# Print the FP-Tree structure\n",
    "print_fp_tree(fp_tree.root)"
   ]
  },
  {
   "cell_type": "markdown",
   "metadata": {},
   "source": [
    "## Part D"
   ]
  },
  {
   "cell_type": "markdown",
   "metadata": {},
   "source": [
    "Using FP tree, construct pattern bases and conditional FP trees."
   ]
  },
  {
   "cell_type": "code",
   "execution_count": 46,
   "metadata": {},
   "outputs": [],
   "source": [
    "# Function to extract the conditional pattern base for an item\n",
    "def find_prefix_paths(base_item, header_table):\n",
    "    cond_pattern_base = []\n",
    "    node = header_table[base_item]\n",
    "    while node is not None:\n",
    "        prefix_path = []\n",
    "        current_node = node\n",
    "        while current_node.parent.item_name is not None:\n",
    "            prefix_path.append(current_node.parent.item_name)\n",
    "            current_node = current_node.parent\n",
    "        if len(prefix_path) > 0:\n",
    "            cond_pattern_base.append((prefix_path, node.count))\n",
    "        node = node.link\n",
    "    return cond_pattern_base"
   ]
  },
  {
   "cell_type": "markdown",
   "metadata": {},
   "source": [
    "#### Finding Pattern Bases for all Items"
   ]
  },
  {
   "cell_type": "code",
   "execution_count": 47,
   "metadata": {},
   "outputs": [
    {
     "name": "stdout",
     "output_type": "stream",
     "text": [
      "PatternBases for bread:  []\n",
      "PatternBases for milk:  [(['bread'], 3)]\n",
      "PatternBases for diaper:  [(['bread'], 1), (['milk'], 1), (['milk', 'bread'], 1)]\n",
      "PatternBases for beer:  [(['diaper', 'bread'], 1), (['diaper', 'milk'], 1), (['diaper', 'milk', 'bread'], 1)]\n",
      "PatternBases for eggs:  [(['beer', 'diaper', 'bread'], 1)]\n",
      "PatternBases for cola:  [(['beer', 'diaper', 'milk'], 1), (['milk', 'bread'], 1)]\n"
     ]
    }
   ],
   "source": [
    "Items = [\"bread\", \"milk\", \"diaper\", \"beer\", \"eggs\", \"cola\"]\n",
    "\n",
    "PatternBases = {\n",
    "    \"bread\": find_prefix_paths(\"bread\", fp_tree.header_table),\n",
    "    \"milk\": find_prefix_paths(\"milk\", fp_tree.header_table),\n",
    "    \"diaper\": find_prefix_paths(\"diaper\", fp_tree.header_table),\n",
    "    \"beer\": find_prefix_paths(\"beer\", fp_tree.header_table),\n",
    "    \"eggs\": find_prefix_paths(\"eggs\", fp_tree.header_table),\n",
    "    \"cola\": find_prefix_paths(\"cola\", fp_tree.header_table)\n",
    "}\n",
    "\n",
    "for i in Items:\n",
    "    print(f\"PatternBases for {i}: \", PatternBases[i])"
   ]
  },
  {
   "cell_type": "markdown",
   "metadata": {},
   "source": [
    "## Part E"
   ]
  },
  {
   "cell_type": "markdown",
   "metadata": {},
   "source": [
    "Generate frequent patterns."
   ]
  },
  {
   "cell_type": "markdown",
   "metadata": {},
   "source": [
    "#### Helper Functions"
   ]
  },
  {
   "cell_type": "code",
   "execution_count": 48,
   "metadata": {},
   "outputs": [],
   "source": [
    "from collections import defaultdict\n",
    "\n",
    "# Function to filter items by support threshold\n",
    "def filter_items_by_support(transactions, min_support):\n",
    "    item_count = defaultdict(int)\n",
    "    for transaction in transactions:\n",
    "        for item in transaction:\n",
    "            item_count[item] += 1\n",
    "\n",
    "    # Filter out items that don't meet the minimum support\n",
    "    filtered_items = {item for item, count in item_count.items() if count >= min_support}\n",
    "    return filtered_items, item_count"
   ]
  },
  {
   "cell_type": "markdown",
   "metadata": {},
   "source": [
    "#### Function to generate the conditional fp-trees"
   ]
  },
  {
   "cell_type": "code",
   "execution_count": 49,
   "metadata": {},
   "outputs": [],
   "source": [
    "# Function to create a conditional FP-Tree\n",
    "def construct_conditional_fp_tree(base_item, cond_pattern_base, min_support):\n",
    "    tree = FPTree()\n",
    "    for prefix_path, count in cond_pattern_base:\n",
    "        # Filter out items that don't meet min support in prefix path\n",
    "        filtered_prefix_path = [item for item in prefix_path if item in tree.header_table]\n",
    "        filtered_prefix_path.sort(key=lambda item: tree.header_table[item].count, reverse=True)\n",
    "        for _ in range(count):\n",
    "            tree.insert_transaction(filtered_prefix_path)\n",
    "    return tree\n",
    "\n",
    "# Function to mine frequent patterns using conditional FP-trees\n",
    "def mine_fp_tree(tree, min_support, prefix, frequent_patterns):\n",
    "    # Sort items in the header table by frequency\n",
    "    sorted_items = sorted(tree.header_table.items(), key=lambda x: x[1].count)\n",
    "\n",
    "    for base_item, node in sorted_items:\n",
    "        new_prefix = prefix.copy()\n",
    "        \n",
    "        # Ensure no duplicate items in the new prefix\n",
    "        if base_item not in new_prefix:\n",
    "            new_prefix.append(base_item)\n",
    "\n",
    "            # Calculate total support for the current pattern\n",
    "            total_support = 0\n",
    "            current_node = node\n",
    "            while current_node is not None:\n",
    "                total_support += current_node.count\n",
    "                current_node = current_node.link\n",
    "\n",
    "            # Add the frequent pattern (prefix + item) to the result\n",
    "            if total_support >= min_support:\n",
    "                frequent_patterns.append((new_prefix, total_support))\n",
    "\n",
    "            # Find conditional pattern base\n",
    "            cond_pattern_base = find_prefix_paths(base_item, tree.header_table)\n",
    "\n",
    "            # Construct conditional FP-Tree for current item\n",
    "            cond_tree = FPTree()\n",
    "            for path, count in cond_pattern_base:\n",
    "                cond_tree.insert_transaction(path * count)  # Insert with counts\n",
    "\n",
    "            # Recursively mine the conditional FP-tree\n",
    "            if cond_tree.root.children:\n",
    "                mine_fp_tree(cond_tree, min_support, new_prefix, frequent_patterns)\n"
   ]
  },
  {
   "cell_type": "markdown",
   "metadata": {},
   "source": [
    "#### Generate Frequent Patterns"
   ]
  },
  {
   "cell_type": "code",
   "execution_count": 50,
   "metadata": {},
   "outputs": [],
   "source": [
    "# Main driver function\n",
    "def generate_frequent_patterns(transactions, min_support):\n",
    "    # Step 1: Filter items by min_support\n",
    "    filtered_items, item_count = filter_items_by_support(transactions, min_support)\n",
    "\n",
    "    # Step 2: Filtered transactions\n",
    "    filtered_transactions = [[item for item in transaction if item in filtered_items]\n",
    "                             for transaction in transactions]\n",
    "\n",
    "    # Step 3: Construct the initial FP-Tree\n",
    "    tree = construct_fp_tree(filtered_transactions)\n",
    "\n",
    "    # Step 4: Recursively mine the FP-Tree\n",
    "    frequent_patterns = []\n",
    "    mine_fp_tree(tree, min_support, [], frequent_patterns)\n",
    "\n",
    "    return frequent_patterns"
   ]
  },
  {
   "cell_type": "code",
   "execution_count": 51,
   "metadata": {},
   "outputs": [
    {
     "name": "stdout",
     "output_type": "stream",
     "text": [
      "Pattern: ['diaper'], Support: 3\n",
      "Pattern: ['diaper', 'bread'], Support: 2\n",
      "Pattern: ['diaper', 'milk'], Support: 2\n",
      "Pattern: ['beer'], Support: 3\n",
      "Pattern: ['beer', 'bread'], Support: 2\n",
      "Pattern: ['beer', 'bread', 'diaper'], Support: 2\n",
      "Pattern: ['beer', 'milk'], Support: 2\n",
      "Pattern: ['beer', 'milk', 'diaper'], Support: 2\n",
      "Pattern: ['beer', 'diaper'], Support: 3\n",
      "Pattern: ['cola'], Support: 2\n",
      "Pattern: ['cola', 'milk'], Support: 2\n",
      "Pattern: ['milk'], Support: 4\n",
      "Pattern: ['milk', 'bread'], Support: 3\n",
      "Pattern: ['bread'], Support: 4\n"
     ]
    }
   ],
   "source": [
    "# DRIVER CODE\n",
    "transactions = [items.split(',') for items in df_transactions['Items']]\n",
    "min_support = 2\n",
    "frequent_patterns = generate_frequent_patterns(transactions, min_support)\n",
    "\n",
    "\n",
    "# Display all frequent patterns\n",
    "for pattern, count in frequent_patterns:\n",
    "    print(f\"Pattern: {pattern}, Support: {count}\")"
   ]
  }
 ],
 "metadata": {
  "kernelspec": {
   "display_name": "Python 3",
   "language": "python",
   "name": "python3"
  },
  "language_info": {
   "codemirror_mode": {
    "name": "ipython",
    "version": 3
   },
   "file_extension": ".py",
   "mimetype": "text/x-python",
   "name": "python",
   "nbconvert_exporter": "python",
   "pygments_lexer": "ipython3",
   "version": "3.11.1"
  }
 },
 "nbformat": 4,
 "nbformat_minor": 2
}
