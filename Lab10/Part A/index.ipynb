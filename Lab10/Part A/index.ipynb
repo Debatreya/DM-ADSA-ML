{
 "cells": [
  {
   "cell_type": "markdown",
   "metadata": {},
   "source": [
    "# Lab 10 > Part A\n",
    "\n",
    "> Name: Debatreya Das <br>\n",
    "> Roll No. 12212070 <br>\n",
    "> CS A4 <br>\n",
    "> Data Mining Lab 10\n",
    "\n",
    "### Create A data warehouse from different .csv files using PostgreSQL tool"
   ]
  },
  {
   "cell_type": "markdown",
   "metadata": {},
   "source": [
    "## Dataset\n",
    "\n",
    "I have gathered 3 CSV files.\n",
    "- [products.csv](./Data/products.csv)\n",
    "- [sales.csv](./Data/sales.csv)\n",
    "- [customers.csv](./Data/customer.csv)\n",
    "\n",
    "Now I will use Python to Put these Tables in Postgres and then Show Applying a Query"
   ]
  },
  {
   "cell_type": "markdown",
   "metadata": {},
   "source": [
    "## Import Libraries and Connect to PostgreSQL"
   ]
  },
  {
   "cell_type": "code",
   "execution_count": 2,
   "metadata": {},
   "outputs": [],
   "source": [
    "import psycopg2\n",
    "import pandas as pd"
   ]
  },
  {
   "cell_type": "code",
   "execution_count": 21,
   "metadata": {},
   "outputs": [],
   "source": [
    "# Connect with local Postgres\n",
    "conn = psycopg2.connect(\n",
    "    dbname=\"warehouse\", \n",
    "    user=\"postgres\",\n",
    "    password=\"postgres\", \n",
    "    host=\"localhost\"\n",
    ")\n",
    "cursor = conn.cursor()"
   ]
  },
  {
   "cell_type": "markdown",
   "metadata": {},
   "source": [
    "### Create Tables"
   ]
  },
  {
   "cell_type": "code",
   "execution_count": 22,
   "metadata": {},
   "outputs": [],
   "source": [
    "# Drop tables if they exist\n",
    "cursor.execute(\"DROP TABLE IF EXISTS sales;\")\n",
    "cursor.execute(\"DROP TABLE IF EXISTS customers;\")\n",
    "cursor.execute(\"DROP TABLE IF EXISTS products;\")\n",
    "\n",
    "# Create 'products' table\n",
    "cursor.execute(\"\"\"\n",
    "CREATE TABLE products (\n",
    "    product_id SERIAL PRIMARY KEY,\n",
    "    product_name VARCHAR(255),\n",
    "    category VARCHAR(255),\n",
    "    price NUMERIC\n",
    ");\n",
    "\"\"\")\n",
    "\n",
    "# Create 'customers' table\n",
    "cursor.execute(\"\"\"\n",
    "CREATE TABLE customers (\n",
    "    customer_id SERIAL PRIMARY KEY,\n",
    "    first_name VARCHAR(255),\n",
    "    last_name VARCHAR(255),\n",
    "    city VARCHAR(255)\n",
    ");\n",
    "\"\"\")\n",
    "\n",
    "# Create 'sales' table\n",
    "cursor.execute(\"\"\"\n",
    "CREATE TABLE sales (\n",
    "    sale_id SERIAL PRIMARY KEY,\n",
    "    product_id INT REFERENCES products(product_id),\n",
    "    customer_id INT REFERENCES customers(customer_id),\n",
    "    sale_date DATE,\n",
    "    quantity INT\n",
    ");\n",
    "\"\"\")\n",
    "\n",
    "conn.commit()"
   ]
  },
  {
   "cell_type": "markdown",
   "metadata": {},
   "source": [
    "### Load Data from CSV into Respective Files"
   ]
  },
  {
   "cell_type": "code",
   "execution_count": 23,
   "metadata": {},
   "outputs": [],
   "source": [
    "# Load each .csv file into the respective table\n",
    "with open('./Data/products.csv', 'r') as f:\n",
    "    next(f)  # Skip the header row\n",
    "    cursor.copy_from(f, 'products', sep=',')\n",
    "\n",
    "with open('./Data/customer.csv', 'r') as f:\n",
    "    next(f)\n",
    "    cursor.copy_from(f, 'customers', sep=',')\n",
    "\n",
    "with open('./Data/sales.csv', 'r') as f:\n",
    "    next(f)\n",
    "    cursor.copy_from(f, 'sales', sep=',')\n",
    "\n",
    "\n",
    "conn.commit()"
   ]
  },
  {
   "cell_type": "markdown",
   "metadata": {},
   "source": [
    "Now the Tables are ready.\n",
    "\n",
    "## Quering the Data Warehouse"
   ]
  },
  {
   "cell_type": "code",
   "execution_count": 24,
   "metadata": {},
   "outputs": [
    {
     "name": "stderr",
     "output_type": "stream",
     "text": [
      "C:\\Users\\debat\\AppData\\Local\\Temp\\ipykernel_24728\\2773805579.py:10: UserWarning: pandas only supports SQLAlchemy connectable (engine/connection) or database string URI or sqlite3 DBAPI2 connection. Other DBAPI2 objects are not tested. Please consider using SQLAlchemy.\n",
      "  df = pd.read_sql(query, conn)\n"
     ]
    },
    {
     "data": {
      "text/html": [
       "<div>\n",
       "<style scoped>\n",
       "    .dataframe tbody tr th:only-of-type {\n",
       "        vertical-align: middle;\n",
       "    }\n",
       "\n",
       "    .dataframe tbody tr th {\n",
       "        vertical-align: top;\n",
       "    }\n",
       "\n",
       "    .dataframe thead th {\n",
       "        text-align: right;\n",
       "    }\n",
       "</style>\n",
       "<table border=\"1\" class=\"dataframe\">\n",
       "  <thead>\n",
       "    <tr style=\"text-align: right;\">\n",
       "      <th></th>\n",
       "      <th>sale_id</th>\n",
       "      <th>sale_date</th>\n",
       "      <th>product_name</th>\n",
       "      <th>first_name</th>\n",
       "      <th>last_name</th>\n",
       "      <th>quantity</th>\n",
       "      <th>price</th>\n",
       "    </tr>\n",
       "  </thead>\n",
       "  <tbody>\n",
       "    <tr>\n",
       "      <th>0</th>\n",
       "      <td>1</td>\n",
       "      <td>2024-01-01</td>\n",
       "      <td>Smartphone</td>\n",
       "      <td>John</td>\n",
       "      <td>Doe</td>\n",
       "      <td>2</td>\n",
       "      <td>500.0</td>\n",
       "    </tr>\n",
       "    <tr>\n",
       "      <th>1</th>\n",
       "      <td>2</td>\n",
       "      <td>2024-01-03</td>\n",
       "      <td>Blender</td>\n",
       "      <td>Jane</td>\n",
       "      <td>Smith</td>\n",
       "      <td>1</td>\n",
       "      <td>80.0</td>\n",
       "    </tr>\n",
       "    <tr>\n",
       "      <th>2</th>\n",
       "      <td>3</td>\n",
       "      <td>2024-01-05</td>\n",
       "      <td>Laptop</td>\n",
       "      <td>Mike</td>\n",
       "      <td>Brown</td>\n",
       "      <td>1</td>\n",
       "      <td>1200.0</td>\n",
       "    </tr>\n",
       "    <tr>\n",
       "      <th>3</th>\n",
       "      <td>4</td>\n",
       "      <td>2024-01-08</td>\n",
       "      <td>Watch</td>\n",
       "      <td>Sara</td>\n",
       "      <td>Johnson</td>\n",
       "      <td>3</td>\n",
       "      <td>150.0</td>\n",
       "    </tr>\n",
       "    <tr>\n",
       "      <th>4</th>\n",
       "      <td>5</td>\n",
       "      <td>2024-01-09</td>\n",
       "      <td>Shoes</td>\n",
       "      <td>John</td>\n",
       "      <td>Doe</td>\n",
       "      <td>1</td>\n",
       "      <td>60.0</td>\n",
       "    </tr>\n",
       "  </tbody>\n",
       "</table>\n",
       "</div>"
      ],
      "text/plain": [
       "   sale_id   sale_date product_name first_name last_name  quantity   price\n",
       "0        1  2024-01-01   Smartphone       John       Doe         2   500.0\n",
       "1        2  2024-01-03      Blender       Jane     Smith         1    80.0\n",
       "2        3  2024-01-05       Laptop       Mike     Brown         1  1200.0\n",
       "3        4  2024-01-08        Watch       Sara   Johnson         3   150.0\n",
       "4        5  2024-01-09        Shoes       John       Doe         1    60.0"
      ]
     },
     "execution_count": 24,
     "metadata": {},
     "output_type": "execute_result"
    }
   ],
   "source": [
    "# Example query to retrieve sales with customer details\n",
    "query = \"\"\"\n",
    "SELECT s.sale_id, s.sale_date, p.product_name, c.first_name, c.last_name, s.quantity, p.price\n",
    "FROM sales s\n",
    "JOIN products p ON s.product_id = p.product_id\n",
    "JOIN customers c ON s.customer_id = c.customer_id;\n",
    "\"\"\"\n",
    "\n",
    "# Run the query and display the results\n",
    "df = pd.read_sql(query, conn)\n",
    "df.head()"
   ]
  },
  {
   "cell_type": "markdown",
   "metadata": {},
   "source": [
    "### Close connection"
   ]
  },
  {
   "cell_type": "code",
   "execution_count": 25,
   "metadata": {},
   "outputs": [],
   "source": [
    "# Close cursor and connection\n",
    "cursor.close()\n",
    "conn.close()"
   ]
  }
 ],
 "metadata": {
  "kernelspec": {
   "display_name": "Python 3",
   "language": "python",
   "name": "python3"
  },
  "language_info": {
   "codemirror_mode": {
    "name": "ipython",
    "version": 3
   },
   "file_extension": ".py",
   "mimetype": "text/x-python",
   "name": "python",
   "nbconvert_exporter": "python",
   "pygments_lexer": "ipython3",
   "version": "3.11.1"
  }
 },
 "nbformat": 4,
 "nbformat_minor": 2
}
