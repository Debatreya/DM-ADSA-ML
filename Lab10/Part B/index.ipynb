{
 "cells": [
  {
   "cell_type": "markdown",
   "metadata": {},
   "source": [
    "# Lab 10 > Part B\n",
    "\n",
    "> Name: Debatreya Das <br>\n",
    "> Roll No. 12212070 <br>\n",
    "> CS A4 <br>\n",
    "> Data Mining Lab 10\n",
    "\n",
    "### Create A data warehouse with given data using PostgreSQL tool and perform data extraction using SQL and OLAP.\n",
    "Write the following queries:\n",
    "1. Find the total sales.\n",
    "2. Find total sales for each city.\n",
    "3. Find total sales for each state.\n",
    "4. Find total sales for each country.\n",
    "5. Find sales of all cities of a specific state in a specific year.\n",
    "6. Find year-wise total sales for each state.\n",
    "7. Find year-wise total sales for each country."
   ]
  },
  {
   "cell_type": "markdown",
   "metadata": {},
   "source": [
    "### Importing Required Libraries for Postgres"
   ]
  },
  {
   "cell_type": "code",
   "execution_count": 1,
   "metadata": {},
   "outputs": [],
   "source": [
    "import psycopg2\n",
    "from psycopg2 import sql\n",
    "import pandas as pd"
   ]
  },
  {
   "cell_type": "markdown",
   "metadata": {},
   "source": [
    "### Create Connection"
   ]
  },
  {
   "cell_type": "code",
   "execution_count": 2,
   "metadata": {},
   "outputs": [],
   "source": [
    "# Establish connection to PostgreSQL\n",
    "conn = psycopg2.connect(\n",
    "    dbname=\"datacube\",\n",
    "    user=\"postgres\",\n",
    "    password=\"postgres\",\n",
    "    host=\"localhost\",\n",
    "    port=\"5432\"\n",
    ")\n",
    "cursor = conn.cursor()"
   ]
  },
  {
   "cell_type": "markdown",
   "metadata": {},
   "source": [
    "### Create the tables"
   ]
  },
  {
   "cell_type": "code",
   "execution_count": 6,
   "metadata": {},
   "outputs": [
    {
     "name": "stdout",
     "output_type": "stream",
     "text": [
      "Tables created successfully!\n"
     ]
    }
   ],
   "source": [
    "create_tables = [\n",
    "    \"\"\"\n",
    "    CREATE TABLE IF NOT EXISTS Products (\n",
    "        P_Id INTEGER PRIMARY KEY,\n",
    "        P_name VARCHAR(100),\n",
    "        Category VARCHAR(50),\n",
    "        Price REAL\n",
    "    );\n",
    "    \"\"\",\n",
    "    \"\"\"\n",
    "    CREATE TABLE IF NOT EXISTS Locations (\n",
    "        Loc_Id INTEGER PRIMARY KEY,\n",
    "        City VARCHAR(50),\n",
    "        State VARCHAR(50),\n",
    "        Country VARCHAR(50)\n",
    "    );\n",
    "    \"\"\",\n",
    "    \"\"\"\n",
    "    CREATE TABLE IF NOT EXISTS Times (\n",
    "        Time_Id INTEGER PRIMARY KEY,\n",
    "        Date VARCHAR(10),\n",
    "        Week INTEGER,\n",
    "        Month INTEGER,\n",
    "        Quarter INTEGER,\n",
    "        Year INTEGER\n",
    "    );\n",
    "    \"\"\",\n",
    "    \"\"\"\n",
    "    CREATE TABLE IF NOT EXISTS Sales (\n",
    "        Loc_Id INTEGER REFERENCES Locations(Loc_Id),\n",
    "        P_Id INTEGER REFERENCES Products(P_Id),\n",
    "        Time_Id INTEGER REFERENCES Times(Time_Id),\n",
    "        Sale REAL,\n",
    "        PRIMARY KEY (Loc_Id, P_Id, Time_Id)\n",
    "    );\n",
    "    \"\"\"\n",
    "]\n",
    "\n",
    "# Drop tables if they already exist\t\n",
    "cursor.execute(\"DROP TABLE IF EXISTS Sales;\")\n",
    "cursor.execute(\"DROP TABLE IF EXISTS Products;\")\n",
    "cursor.execute(\"DROP TABLE IF EXISTS Locations;\")\n",
    "cursor.execute(\"DROP TABLE IF EXISTS Times;\")\n",
    "\n",
    "# Execute each CREATE TABLE statement\n",
    "for command in create_tables:\n",
    "    cursor.execute(command)\n",
    "\n",
    "# Commit changes and close connection\n",
    "conn.commit()\n",
    "\n",
    "print(\"Tables created successfully!\")"
   ]
  },
  {
   "cell_type": "markdown",
   "metadata": {},
   "source": [
    "### Inserting values in the Tables"
   ]
  },
  {
   "cell_type": "code",
   "execution_count": 7,
   "metadata": {},
   "outputs": [
    {
     "name": "stdout",
     "output_type": "stream",
     "text": [
      "Data inserted successfully!\n"
     ]
    }
   ],
   "source": [
    "# Insert data into Products table\n",
    "products_data = [\n",
    "    (11, 'Lee Jeans', 'Apparel', 25),\n",
    "    (12, 'Zord', 'Toys', 18),\n",
    "    (13, 'Biro Pen', 'Stationery', 2)\n",
    "]\n",
    "cursor.executemany(\"INSERT INTO Products (P_Id, P_name, Category, Price) VALUES (%s, %s, %s, %s);\", products_data)\n",
    "\n",
    "# Insert data into Locations table\n",
    "locations_data = [\n",
    "    (1, 'Madison', 'WI', 'USA'),\n",
    "    (2, 'Fresno', 'CA', 'USA'),\n",
    "    (5, 'Chennai', 'TN', 'India')\n",
    "]\n",
    "cursor.executemany(\"INSERT INTO Locations (Loc_Id, City, State, Country) VALUES (%s, %s, %s, %s);\", locations_data)\n",
    "\n",
    "# Insert data into Times table\n",
    "times_data = [\n",
    "    (1, '2023-01-01', 1, 1, 1, 2023),\n",
    "    (2, '2023-04-01', 14, 4, 2, 2023),\n",
    "    (3, '2023-07-01', 27, 7, 3, 2023)\n",
    "]\n",
    "cursor.executemany(\"INSERT INTO Times (Time_Id, Date, Week, Month, Quarter, Year) VALUES (%s, %s, %s, %s, %s, %s);\", times_data)\n",
    "\n",
    "# Insert data into Sales table\n",
    "sales_data = [\n",
    "    (1, 11, 1, 25), (1, 11, 2, 8), (1, 11, 3, 15),\n",
    "    (1, 12, 1, 30), (1, 12, 2, 20), (1, 12, 3, 50),\n",
    "    (1, 13, 1, 8),  (1, 13, 2, 10), (1, 13, 3, 10),\n",
    "    (2, 11, 1, 35), (2, 11, 2, 22), (2, 11, 3, 10),\n",
    "    (2, 12, 1, 26), (2, 12, 2, 45), (2, 12, 3, 40),\n",
    "    (2, 13, 1, 20), (2, 13, 2, 20), (2, 13, 3, 40)\n",
    "]\n",
    "cursor.executemany(\"INSERT INTO Sales (Loc_Id, P_Id, Time_Id, Sale) VALUES (%s, %s, %s, %s);\", sales_data)\n",
    "\n",
    "# Commit the transaction\n",
    "conn.commit()\n",
    "\n",
    "\n",
    "print(\"Data inserted successfully!\")"
   ]
  },
  {
   "cell_type": "markdown",
   "metadata": {},
   "source": [
    "### SELECT * FROM < TABLE > to check if its inserted properly"
   ]
  },
  {
   "cell_type": "code",
   "execution_count": 10,
   "metadata": {},
   "outputs": [
    {
     "name": "stdout",
     "output_type": "stream",
     "text": [
      "Products Table\n",
      "   P_Id     P_name    Category  Price\n",
      "0    11  Lee Jeans     Apparel   25.0\n",
      "1    12       Zord        Toys   18.0\n",
      "2    13   Biro Pen  Stationery    2.0\n",
      "Locations Table\n",
      "   Loc_Id     City State Country\n",
      "0       1  Madison    WI     USA\n",
      "1       2   Fresno    CA     USA\n",
      "2       5  Chennai    TN   India\n",
      "Times Table\n",
      "   Time_Id        Date  Week  Month  Quarter  Year\n",
      "0        1  2023-01-01     1      1        1  2023\n",
      "1        2  2023-04-01    14      4        2  2023\n",
      "2        3  2023-07-01    27      7        3  2023\n",
      "Sales Table\n",
      "    Loc_Id  P_Id  Time_Id  Sale\n",
      "0        1    11        1  25.0\n",
      "1        1    11        2   8.0\n",
      "2        1    11        3  15.0\n",
      "3        1    12        1  30.0\n",
      "4        1    12        2  20.0\n",
      "5        1    12        3  50.0\n",
      "6        1    13        1   8.0\n",
      "7        1    13        2  10.0\n",
      "8        1    13        3  10.0\n",
      "9        2    11        1  35.0\n",
      "10       2    11        2  22.0\n",
      "11       2    11        3  10.0\n",
      "12       2    12        1  26.0\n",
      "13       2    12        2  45.0\n",
      "14       2    12        3  40.0\n",
      "15       2    13        1  20.0\n",
      "16       2    13        2  20.0\n",
      "17       2    13        3  40.0\n"
     ]
    }
   ],
   "source": [
    "import pandas as pd\n",
    "\n",
    "# Select all rows from the Products table\n",
    "cursor.execute(\"SELECT * FROM Products;\")\n",
    "products = cursor.fetchall()\n",
    "\n",
    "print(\"Products Table\")\n",
    "print(pd.DataFrame(products, columns=['P_Id', 'P_name', 'Category', 'Price']))\n",
    "\n",
    "# Select all rows from the Locations table\n",
    "cursor.execute(\"SELECT * FROM Locations;\")\n",
    "locations = cursor.fetchall()\n",
    "\n",
    "print(\"Locations Table\")\n",
    "print(pd.DataFrame(locations, columns=['Loc_Id', 'City', 'State', 'Country']))\n",
    "\n",
    "# Select all rows from the Times table\n",
    "cursor.execute(\"SELECT * FROM Times;\")\n",
    "times = cursor.fetchall()\n",
    "\n",
    "print(\"Times Table\")\n",
    "print(pd.DataFrame(times, columns=['Time_Id', 'Date', 'Week', 'Month', 'Quarter', 'Year']))\n",
    "\n",
    "# Select all rows from the Sales table\n",
    "cursor.execute(\"SELECT * FROM Sales;\")\n",
    "sales = cursor.fetchall()\n",
    "\n",
    "print(\"Sales Table\")\n",
    "print(pd.DataFrame(sales, columns=['Loc_Id', 'P_Id', 'Time_Id', 'Sale']))\n"
   ]
  },
  {
   "cell_type": "markdown",
   "metadata": {},
   "source": [
    "### Writing the SQL (without OLAP)"
   ]
  },
  {
   "cell_type": "markdown",
   "metadata": {},
   "source": [
    "#### Find the total sales"
   ]
  },
  {
   "cell_type": "code",
   "execution_count": 11,
   "metadata": {},
   "outputs": [
    {
     "name": "stdout",
     "output_type": "stream",
     "text": [
      "Total Sales: $ 434.0\n"
     ]
    }
   ],
   "source": [
    "query = \"\"\"\n",
    "SELECT SUM(Sale) AS Total_Sales\n",
    "FROM Sales;\n",
    "\"\"\"\n",
    "\n",
    "cursor.execute(query)\n",
    "total_sales = cursor.fetchone()\n",
    "\n",
    "print(\"Total Sales: $\", total_sales[0])"
   ]
  },
  {
   "cell_type": "markdown",
   "metadata": {},
   "source": [
    "#### Find total sales for each city"
   ]
  },
  {
   "cell_type": "code",
   "execution_count": 12,
   "metadata": {},
   "outputs": [
    {
     "name": "stdout",
     "output_type": "stream",
     "text": [
      "City-wise Sales\n",
      "      City  Total_Sales\n",
      "0   Fresno        258.0\n",
      "1  Madison        176.0\n"
     ]
    }
   ],
   "source": [
    "query = \"\"\"\n",
    "SELECT L.City, SUM(S.Sale) AS Total_Sales\n",
    "FROM Sales S\n",
    "JOIN Locations L ON S.Loc_Id = L.Loc_Id\n",
    "GROUP BY L.City;\n",
    "\"\"\"\n",
    "\n",
    "cursor.execute(query)\n",
    "city_sales = cursor.fetchall()\n",
    "\n",
    "print(\"City-wise Sales\")\n",
    "print(pd.DataFrame(city_sales, columns=['City', 'Total_Sales']))"
   ]
  },
  {
   "cell_type": "markdown",
   "metadata": {},
   "source": [
    "#### Find total sales for each state."
   ]
  },
  {
   "cell_type": "code",
   "execution_count": 13,
   "metadata": {},
   "outputs": [
    {
     "name": "stdout",
     "output_type": "stream",
     "text": [
      "State-wise Sales\n",
      "  State  Total_Sales\n",
      "0    WI        176.0\n",
      "1    CA        258.0\n"
     ]
    }
   ],
   "source": [
    "query = \"\"\"\n",
    "SELECT L.State, SUM(S.Sale) AS Total_Sales\n",
    "FROM Sales S\n",
    "JOIN Locations L ON S.Loc_Id = L.Loc_Id\n",
    "GROUP BY L.State;\n",
    "\"\"\"\n",
    "\n",
    "cursor.execute(query)\n",
    "state_sales = cursor.fetchall()\n",
    "\n",
    "print(\"State-wise Sales\")\n",
    "print(pd.DataFrame(state_sales, columns=['State', 'Total_Sales']))"
   ]
  },
  {
   "cell_type": "markdown",
   "metadata": {},
   "source": [
    "#### Find total sales for each country."
   ]
  },
  {
   "cell_type": "code",
   "execution_count": 14,
   "metadata": {},
   "outputs": [
    {
     "name": "stdout",
     "output_type": "stream",
     "text": [
      "Country-wise Sales\n",
      "  Country  Total_Sales\n",
      "0     USA        434.0\n"
     ]
    }
   ],
   "source": [
    "query = \"\"\"\n",
    "SELECT L.Country, SUM(S.Sale) AS Total_Sales\n",
    "FROM Sales S\n",
    "JOIN Locations L ON S.Loc_Id = L.Loc_Id\n",
    "GROUP BY L.Country;\n",
    "\"\"\"\n",
    "\n",
    "cursor.execute(query)\n",
    "country_sales = cursor.fetchall()\n",
    "\n",
    "print(\"Country-wise Sales\")\n",
    "print(pd.DataFrame(country_sales, columns=['Country', 'Total_Sales']))"
   ]
  },
  {
   "cell_type": "markdown",
   "metadata": {},
   "source": [
    "#### Find sales of all cities of a specific state (CA) in a specific year (2023).  "
   ]
  },
  {
   "cell_type": "code",
   "execution_count": 25,
   "metadata": {},
   "outputs": [
    {
     "name": "stdout",
     "output_type": "stream",
     "text": [
      "2023 City Sales in CA\n",
      "   Year    City  Total_Sales\n",
      "0  2023  Fresno        258.0\n"
     ]
    }
   ],
   "source": [
    "query = \"\"\"\n",
    "SELECT T.Year, L.City, SUM(S.Sale) AS Total_Sales\n",
    "FROM Sales S\n",
    "JOIN Locations L ON S.Loc_Id = L.Loc_Id\n",
    "JOIN Times T ON S.Time_Id = T.Time_Id\n",
    "WHERE T.Year = 2023 AND L.State = 'CA'\n",
    "GROUP BY T.Year, L.City\n",
    "ORDER BY T.Year, L.City;\n",
    "\"\"\"\n",
    "\n",
    "cursor.execute(query)\n",
    "city_sales_2023 = cursor.fetchall()\n",
    "\n",
    "print(\"2023 City Sales in CA\")\n",
    "print(pd.DataFrame(city_sales_2023, columns=['Year', 'City', 'Total_Sales']))"
   ]
  },
  {
   "cell_type": "markdown",
   "metadata": {},
   "source": [
    "#### Find year-wise total sales for each state."
   ]
  },
  {
   "cell_type": "code",
   "execution_count": 26,
   "metadata": {},
   "outputs": [
    {
     "name": "stdout",
     "output_type": "stream",
     "text": [
      "Year and State-wise Sales\n",
      "   Year State  Total_Sales\n",
      "0  2023    CA        258.0\n",
      "1  2023    WI        176.0\n"
     ]
    }
   ],
   "source": [
    "query = \"\"\"\n",
    "SELECT T.Year, L.State, SUM(S.Sale) AS Total_Sales\n",
    "FROM Sales S\n",
    "JOIN Locations L ON S.Loc_Id = L.Loc_Id\n",
    "JOIN Times T ON S.Time_Id = T.Time_Id\n",
    "GROUP BY T.Year, L.State\n",
    "ORDER BY T.Year, L.State;\n",
    "\"\"\"\n",
    "\n",
    "cursor.execute(query)\n",
    "year_state_sales = cursor.fetchall()\n",
    "\n",
    "print(\"Year and State-wise Sales\")\n",
    "print(pd.DataFrame(year_state_sales, columns=['Year', 'State', 'Total_Sales']))"
   ]
  },
  {
   "cell_type": "markdown",
   "metadata": {},
   "source": [
    "#### Find year-wise total sales for each country."
   ]
  },
  {
   "cell_type": "code",
   "execution_count": 27,
   "metadata": {},
   "outputs": [
    {
     "name": "stdout",
     "output_type": "stream",
     "text": [
      "Year and Country-wise Sales\n",
      "   Year Country  Total_Sales\n",
      "0  2023     USA        434.0\n"
     ]
    }
   ],
   "source": [
    "query = \"\"\"\n",
    "SELECT T.Year, L.Country, SUM(S.Sale) AS Total_Sales\n",
    "FROM Sales S\n",
    "JOIN Locations L ON S.Loc_Id = L.Loc_Id\n",
    "JOIN Times T ON S.Time_Id = T.Time_Id\n",
    "GROUP BY T.Year, L.Country\n",
    "ORDER BY T.Year, L.Country;\n",
    "\"\"\"\n",
    "\n",
    "cursor.execute(query)\n",
    "year_country_sales = cursor.fetchall()\n",
    "\n",
    "print(\"Year and Country-wise Sales\")\n",
    "print(pd.DataFrame(year_country_sales, columns=['Year', 'Country', 'Total_Sales']))"
   ]
  },
  {
   "cell_type": "markdown",
   "metadata": {},
   "source": [
    "### OLAP Queries"
   ]
  },
  {
   "cell_type": "markdown",
   "metadata": {},
   "source": [
    "#### Find the total sales"
   ]
  },
  {
   "cell_type": "code",
   "execution_count": 29,
   "metadata": {},
   "outputs": [
    {
     "name": "stdout",
     "output_type": "stream",
     "text": [
      "Total Sales: $ 434.0\n"
     ]
    }
   ],
   "source": [
    "query = \"\"\"\n",
    "SELECT SUM(Sale) AS Total_Sales\n",
    "FROM Sales\n",
    "GROUP BY CUBE(Loc_Id, P_Id, Time_Id);\n",
    "\"\"\"\n",
    "\n",
    "cursor.execute(query)\n",
    "total_sales = cursor.fetchone()\n",
    "\n",
    "print(\"Total Sales: $\", total_sales[0])"
   ]
  },
  {
   "cell_type": "markdown",
   "metadata": {},
   "source": [
    "#### Find total sales for each city. "
   ]
  },
  {
   "cell_type": "code",
   "execution_count": 30,
   "metadata": {},
   "outputs": [
    {
     "name": "stdout",
     "output_type": "stream",
     "text": [
      "City-wise Sales\n",
      "      City  Total_Sales\n",
      "0     None        434.0\n",
      "1   Fresno        258.0\n",
      "2  Madison        176.0\n"
     ]
    }
   ],
   "source": [
    "query = \"\"\"\n",
    "SELECT L.City, SUM(S.Sale) AS Total_Sales\n",
    "FROM Sales S\n",
    "JOIN Locations L ON S.Loc_Id = L.Loc_Id\n",
    "GROUP BY ROLLUP (L.City);\n",
    "\"\"\"\n",
    "\n",
    "cursor.execute(query)\n",
    "city_sales = cursor.fetchall()\n",
    "\n",
    "print(\"City-wise Sales\")\n",
    "print(pd.DataFrame(city_sales, columns=['City', 'Total_Sales']))"
   ]
  },
  {
   "cell_type": "markdown",
   "metadata": {},
   "source": [
    "#### Find total sales for each state. "
   ]
  },
  {
   "cell_type": "code",
   "execution_count": 31,
   "metadata": {},
   "outputs": [
    {
     "name": "stdout",
     "output_type": "stream",
     "text": [
      "State-wise Sales\n",
      "  State  Total_Sales\n",
      "0  None        434.0\n",
      "1    WI        176.0\n",
      "2    CA        258.0\n"
     ]
    }
   ],
   "source": [
    "query = \"\"\"\n",
    "SELECT L.State, SUM(S.Sale) AS Total_Sales\n",
    "FROM Sales S\n",
    "JOIN Locations L ON S.Loc_Id = L.Loc_Id\n",
    "GROUP BY ROLLUP (L.State);\n",
    "\"\"\"\n",
    "\n",
    "cursor.execute(query)\n",
    "state_sales = cursor.fetchall()\n",
    "\n",
    "print(\"State-wise Sales\")\n",
    "print(pd.DataFrame(state_sales, columns=['State', 'Total_Sales']))"
   ]
  },
  {
   "cell_type": "markdown",
   "metadata": {},
   "source": [
    "#### Find total sales for each country. "
   ]
  },
  {
   "cell_type": "code",
   "execution_count": 32,
   "metadata": {},
   "outputs": [
    {
     "name": "stdout",
     "output_type": "stream",
     "text": [
      "Country-wise Sales\n",
      "  Country  Total_Sales\n",
      "0    None        434.0\n",
      "1     USA        434.0\n"
     ]
    }
   ],
   "source": [
    "query = \"\"\"\n",
    "SELECT L.Country, SUM(S.Sale) AS Total_Sales\n",
    "FROM Sales S\n",
    "JOIN Locations L ON S.Loc_Id = L.Loc_Id\n",
    "GROUP BY ROLLUP (L.Country);\n",
    "\"\"\"\n",
    "\n",
    "cursor.execute(query)\n",
    "country_sales = cursor.fetchall()\n",
    "\n",
    "print(\"Country-wise Sales\")\n",
    "print(pd.DataFrame(country_sales, columns=['Country', 'Total_Sales']))"
   ]
  },
  {
   "cell_type": "markdown",
   "metadata": {},
   "source": [
    "#### Find sales of all cities of a specific state (WI) in a specific year (2023). "
   ]
  },
  {
   "cell_type": "code",
   "execution_count": 3,
   "metadata": {},
   "outputs": [
    {
     "name": "stdout",
     "output_type": "stream",
     "text": [
      "2023 City Sales in WI\n",
      "  State     City    Year  Total_Sales\n",
      "0  None     None     NaN        176.0\n",
      "1    WI  Madison  2023.0        176.0\n",
      "2    WI  Madison     NaN        176.0\n",
      "3  None  Madison     NaN        176.0\n"
     ]
    }
   ],
   "source": [
    "query = \"\"\"\n",
    "SELECT L.State, L.City, T.Year, SUM(S.Sale) AS Total_Sales\n",
    "FROM Sales S\n",
    "JOIN Locations L ON S.Loc_Id = L.Loc_Id\n",
    "JOIN Times T ON S.Time_Id = T.Time_Id\n",
    "WHERE L.State = 'WI' AND T.Year = '2023'\n",
    "GROUP BY ROLLUP (L.City, L.State, T.Year);\n",
    "\"\"\"\n",
    "\n",
    "cursor.execute(query)\n",
    "city_sales_2023 = cursor.fetchall()\n",
    "\n",
    "print(\"2023 City Sales in WI\")\n",
    "print(pd.DataFrame(city_sales_2023, columns=['State', 'City', 'Year', 'Total_Sales']))"
   ]
  },
  {
   "cell_type": "markdown",
   "metadata": {},
   "source": [
    "#### Find year-wise total sales for each state."
   ]
  },
  {
   "cell_type": "code",
   "execution_count": 4,
   "metadata": {},
   "outputs": [
    {
     "name": "stdout",
     "output_type": "stream",
     "text": [
      "Year and State-wise Sales\n",
      "     Year State  Total_Sales\n",
      "0  2023.0    CA        258.0\n",
      "1  2023.0    WI        176.0\n",
      "2  2023.0  None        434.0\n",
      "3     NaN  None        434.0\n"
     ]
    }
   ],
   "source": [
    "query = \"\"\"\n",
    "SELECT T.Year, L.State, SUM(S.Sale) AS Total_Sales\n",
    "FROM Sales S\n",
    "JOIN Locations L ON S.Loc_Id = L.Loc_Id\n",
    "JOIN Times T ON S.Time_Id = T.Time_Id\n",
    "GROUP BY ROLLUP (T.Year, L.State)\n",
    "ORDER BY T.Year, L.State;\n",
    "\"\"\"\n",
    "\n",
    "cursor.execute(query)\n",
    "year_state_sales = cursor.fetchall()\n",
    "\n",
    "print(\"Year and State-wise Sales\")\n",
    "print(pd.DataFrame(year_state_sales, columns=['Year', 'State', 'Total_Sales']))"
   ]
  },
  {
   "cell_type": "markdown",
   "metadata": {},
   "source": [
    "#### Find year-wise total sales for each country."
   ]
  },
  {
   "cell_type": "code",
   "execution_count": 5,
   "metadata": {},
   "outputs": [
    {
     "name": "stdout",
     "output_type": "stream",
     "text": [
      "Year and Country-wise Sales\n",
      "     Year Country  Total_Sales\n",
      "0  2023.0     USA        434.0\n",
      "1  2023.0    None        434.0\n",
      "2     NaN    None        434.0\n"
     ]
    }
   ],
   "source": [
    "query = \"\"\"\n",
    "SELECT T.Year, L.Country, SUM(S.Sale) AS Total_Sales\n",
    "FROM Sales S\n",
    "JOIN Locations L ON S.Loc_Id = L.Loc_Id\n",
    "JOIN Times T ON S.Time_Id = T.Time_Id\n",
    "GROUP BY ROLLUP (T.Year, L.Country)\n",
    "ORDER BY T.Year, L.Country;\n",
    "\"\"\"\n",
    "\n",
    "cursor.execute(query)\n",
    "year_country_sales = cursor.fetchall()\n",
    "\n",
    "print(\"Year and Country-wise Sales\")\n",
    "print(pd.DataFrame(year_country_sales, columns=['Year', 'Country', 'Total_Sales']))"
   ]
  }
 ],
 "metadata": {
  "kernelspec": {
   "display_name": "Python 3",
   "language": "python",
   "name": "python3"
  },
  "language_info": {
   "codemirror_mode": {
    "name": "ipython",
    "version": 3
   },
   "file_extension": ".py",
   "mimetype": "text/x-python",
   "name": "python",
   "nbconvert_exporter": "python",
   "pygments_lexer": "ipython3",
   "version": "3.11.1"
  }
 },
 "nbformat": 4,
 "nbformat_minor": 2
}
